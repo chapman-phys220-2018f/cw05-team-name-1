{
 "cells": [
  {
   "cell_type": "markdown",
   "metadata": {
    "collapsed": false
   },
   "source": [
    "### What We Learned:"
   ]
  },
  {
   "cell_type": "markdown",
   "metadata": {
    "collapsed": false
   },
   "source": [
    "- Low-level vs. High-level language\n",
    "    - Python is a high-level language\n",
    "    - Higher the level increases portability and simplicity but decreases efficiency\n",
    "- Modules oragnize code into function and promote reuse of code\n",
    "- Object-oriented design involves use of classes and objects\n",
    "    - Classes: Defining new data types go into classes. Both functions and related data are grouped into classes. Constructors, like \"__init__\", are used to construc the object and set default properties of the class\n",
    "        - Subclassing is useful and efficient for copying and modifying another class (and \"super\")\n",
    "    - Objects: Specific instances of data in classes are objects that posses their own functions, or methods\n"
   ]
  },
  {
   "cell_type": "markdown",
   "metadata": {
    "collapsed": false
   },
   "source": [
    "### Remaining Questions:"
   ]
  },
  {
   "cell_type": "markdown",
   "metadata": {
    "collapsed": false
   },
   "source": [
    "- Class breakdown/syntax\n",
    "- Further use and practice of object extensions\n",
    "- Further use of memoizing"
   ]
  }
 ],
 "metadata": {
  "kernelspec": {
   "display_name": "Python 3 (Anaconda 5)",
   "language": "python",
   "name": "anaconda5"
  }
 },
 "nbformat": 4,
 "nbformat_minor": 0
}